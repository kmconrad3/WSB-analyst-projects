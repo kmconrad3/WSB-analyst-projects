{
 "cells": [
  {
   "cell_type": "code",
   "execution_count": 1,
   "id": "452e16cf-5570-416b-b43c-5f2d095db647",
   "metadata": {
    "tags": []
   },
   "outputs": [],
   "source": [
    "import pandas as pd\n",
    "import numpy as np\n",
    "\n",
    "fds19_20 = pd.concat([ pd.read_excel(\"fds_addl_19-20.xlsx\"), pd.read_excel(\"fds_addl_19-20v2.xlsx\")], ignore_index=True)\n",
    "fds20_21 = pd.concat([ pd.read_excel(\"fds_addl_20-21.xlsx\"), pd.read_excel(\"fds_addl_20-21v2.xlsx\")], ignore_index=True)\n",
    "fds21_22 = pd.read_excel(\"fds_addl_21-22.xlsx\")\n",
    "fds22_23 = pd.read_excel(\"fds_addl_22-23.xlsx\")\n",
    "fds23_24 = pd.read_excel(\"fds_addl_23-24.xlsx\")\n",
    "\n",
    "#another weird concat error: Reindexing only valid with uniquely valued Index objects when combining the renamed dataframes"
   ]
  },
  {
   "cell_type": "code",
   "execution_count": 2,
   "id": "524cc92e-393e-443b-90e0-10ba61b4c94c",
   "metadata": {
    "tags": []
   },
   "outputs": [
    {
     "ename": "InvalidIndexError",
     "evalue": "Reindexing only valid with uniquely valued Index objects",
     "output_type": "error",
     "traceback": [
      "\u001b[1;31m---------------------------------------------------------------------------\u001b[0m",
      "\u001b[1;31mInvalidIndexError\u001b[0m                         Traceback (most recent call last)",
      "Cell \u001b[1;32mIn[2], line 17\u001b[0m\n\u001b[0;32m     15\u001b[0m fds19_23\u001b[38;5;241m=\u001b[39mfds19_20\n\u001b[0;32m     16\u001b[0m \u001b[38;5;28;01mfor\u001b[39;00m yr \u001b[38;5;129;01min\u001b[39;00m fds19_23_li:\n\u001b[1;32m---> 17\u001b[0m     pd\u001b[38;5;241m.\u001b[39mconcat([yr, fds19_23])\n",
      "File \u001b[1;32m~\\AppData\\Local\\anaconda3\\Lib\\site-packages\\pandas\\core\\reshape\\concat.py:385\u001b[0m, in \u001b[0;36mconcat\u001b[1;34m(objs, axis, join, ignore_index, keys, levels, names, verify_integrity, sort, copy)\u001b[0m\n\u001b[0;32m    370\u001b[0m     copy \u001b[38;5;241m=\u001b[39m \u001b[38;5;28;01mFalse\u001b[39;00m\n\u001b[0;32m    372\u001b[0m op \u001b[38;5;241m=\u001b[39m _Concatenator(\n\u001b[0;32m    373\u001b[0m     objs,\n\u001b[0;32m    374\u001b[0m     axis\u001b[38;5;241m=\u001b[39maxis,\n\u001b[1;32m   (...)\u001b[0m\n\u001b[0;32m    382\u001b[0m     sort\u001b[38;5;241m=\u001b[39msort,\n\u001b[0;32m    383\u001b[0m )\n\u001b[1;32m--> 385\u001b[0m \u001b[38;5;28;01mreturn\u001b[39;00m op\u001b[38;5;241m.\u001b[39mget_result()\n",
      "File \u001b[1;32m~\\AppData\\Local\\anaconda3\\Lib\\site-packages\\pandas\\core\\reshape\\concat.py:612\u001b[0m, in \u001b[0;36m_Concatenator.get_result\u001b[1;34m(self)\u001b[0m\n\u001b[0;32m    610\u001b[0m         obj_labels \u001b[38;5;241m=\u001b[39m obj\u001b[38;5;241m.\u001b[39maxes[\u001b[38;5;241m1\u001b[39m \u001b[38;5;241m-\u001b[39m ax]\n\u001b[0;32m    611\u001b[0m         \u001b[38;5;28;01mif\u001b[39;00m \u001b[38;5;129;01mnot\u001b[39;00m new_labels\u001b[38;5;241m.\u001b[39mequals(obj_labels):\n\u001b[1;32m--> 612\u001b[0m             indexers[ax] \u001b[38;5;241m=\u001b[39m obj_labels\u001b[38;5;241m.\u001b[39mget_indexer(new_labels)\n\u001b[0;32m    614\u001b[0m     mgrs_indexers\u001b[38;5;241m.\u001b[39mappend((obj\u001b[38;5;241m.\u001b[39m_mgr, indexers))\n\u001b[0;32m    616\u001b[0m new_data \u001b[38;5;241m=\u001b[39m concatenate_managers(\n\u001b[0;32m    617\u001b[0m     mgrs_indexers, \u001b[38;5;28mself\u001b[39m\u001b[38;5;241m.\u001b[39mnew_axes, concat_axis\u001b[38;5;241m=\u001b[39m\u001b[38;5;28mself\u001b[39m\u001b[38;5;241m.\u001b[39mbm_axis, copy\u001b[38;5;241m=\u001b[39m\u001b[38;5;28mself\u001b[39m\u001b[38;5;241m.\u001b[39mcopy\n\u001b[0;32m    618\u001b[0m )\n",
      "File \u001b[1;32m~\\AppData\\Local\\anaconda3\\Lib\\site-packages\\pandas\\core\\indexes\\base.py:3732\u001b[0m, in \u001b[0;36mIndex.get_indexer\u001b[1;34m(self, target, method, limit, tolerance)\u001b[0m\n\u001b[0;32m   3729\u001b[0m \u001b[38;5;28mself\u001b[39m\u001b[38;5;241m.\u001b[39m_check_indexing_method(method, limit, tolerance)\n\u001b[0;32m   3731\u001b[0m \u001b[38;5;28;01mif\u001b[39;00m \u001b[38;5;129;01mnot\u001b[39;00m \u001b[38;5;28mself\u001b[39m\u001b[38;5;241m.\u001b[39m_index_as_unique:\n\u001b[1;32m-> 3732\u001b[0m     \u001b[38;5;28;01mraise\u001b[39;00m InvalidIndexError(\u001b[38;5;28mself\u001b[39m\u001b[38;5;241m.\u001b[39m_requires_unique_msg)\n\u001b[0;32m   3734\u001b[0m \u001b[38;5;28;01mif\u001b[39;00m \u001b[38;5;28mlen\u001b[39m(target) \u001b[38;5;241m==\u001b[39m \u001b[38;5;241m0\u001b[39m:\n\u001b[0;32m   3735\u001b[0m     \u001b[38;5;28;01mreturn\u001b[39;00m np\u001b[38;5;241m.\u001b[39marray([], dtype\u001b[38;5;241m=\u001b[39mnp\u001b[38;5;241m.\u001b[39mintp)\n",
      "\u001b[1;31mInvalidIndexError\u001b[0m: Reindexing only valid with uniquely valued Index objects"
     ]
    }
   ],
   "source": [
    "fds19_20.columns = fds19_20.columns.map(lambda x: x.split(\": \")[1] if len(x.split(\": \")) > 1 else x)\n",
    "fds21_22.columns = fds21_22.columns.map(lambda x: x.split(\": \")[1] if len(x.split(\": \")) > 1 else x)\n",
    "fds20_21.columns = fds20_21.columns.map(lambda x: x.split(\": \")[1] if len(x.split(\": \")) > 1 else x)\n",
    "fds22_23.columns = fds22_23.columns.map(lambda x: x.split(\": \")[1] if len(x.split(\": \")) > 1 else x)\n",
    "fds23_24.columns = fds23_24.columns.map(lambda x: x.split(\": \")[1] if len(x.split(\": \")) > 1 else x)\n",
    "\n",
    "# for yr in fds19_23_li:\n",
    "#     for y in yr.columns:\n",
    "#         if len(y.split(\": \"))>1:\n",
    "#             yr.rename(columns = {y:y.split(\": \")[1]}, inplace = True) \n",
    "#     yr.reset_index(inplace=True, drop=True)\n",
    "\n",
    "\n",
    "fds19_23_li = [fds20_21, fds21_22, fds22_23, fds23_24]\n",
    "fds19_23=fds19_20\n",
    "for yr in fds19_23_li:\n",
    "    pd.concat([yr, fds19_23])\n",
    "\n",
    "#fds19_23 = pd.concat(fds19_23_li, ignore_index=True)"
   ]
  },
  {
   "cell_type": "markdown",
   "id": "9da49fa0-cc07-434f-afa7-44227d47a7ad",
   "metadata": {},
   "source": [
    "# Just removing numbers in code now"
   ]
  },
  {
   "cell_type": "code",
   "execution_count": 3,
   "id": "d229d7ae-c7f1-4d72-979f-890e69572f24",
   "metadata": {
    "tags": []
   },
   "outputs": [],
   "source": [
    "fds19_20 = pd.concat([ pd.read_excel(\"fds_addl_19-20v2.xlsx\"), pd.read_excel(\"fds_addl_19-20.xlsx\")], ignore_index=True)\n",
    "fds20_21 = pd.concat([ pd.read_excel(\"fds_addl_20-21v2.xlsx\"), pd.read_excel(\"fds_addl_20-21.xlsx\")], ignore_index=True)\n",
    "fds21_22 = pd.read_excel(\"fds_addl_21-22.xlsx\")\n",
    "fds22_23 = pd.read_excel(\"fds_addl_22-23.xlsx\")\n",
    "fds23_24 = pd.read_excel(\"fds_addl_23-24.xlsx\")\n",
    "\n",
    "fds19_23_li = [fds19_20, fds20_21, fds21_22, fds22_23, fds23_24]\n",
    "fds19_23 = pd.concat(fds19_23_li, ignore_index=True)\n",
    "\n",
    "fds19_23['Additional Offer #1: Who is the employer?'] = pd.concat([fds19_23['Additional Offer #1: Who is the employer?'], fds19_23['Additional Offer #1 - Who is the employer']], axis=0, ignore_index=True)\n",
    "fds19_23['Additional Offer #1: What is the location?'] = pd.concat([fds19_23['Additional Offer #1: What is the location?'], fds19_23['Additional Offer #1 - Where is the position located?']], axis=0, ignore_index=True)\n",
    "fds19_23['Additional Offer #1: Base Salary offered'] = pd.concat([fds19_23['Additional Offer #1: Base Salary offered'], fds19_23['Additional Offer #1 - What is the base salary that was offered?']], axis=0, ignore_index=True)\n",
    "fds19_23['Please indicate how closely your post-graduation outcome aligns with your intended career goal at graduation'] = pd.concat([fds19_23['Please indicate how closely your post-graduation outcome aligns with your intended career goal at graduation'], fds19_23['Please indicate how closely your post-graduation outcome aligns with your intended career goal at graduation.']], axis=0, ignore_index=True)\n",
    "fds19_23['Did you receive any employment offers that you did not accept?'] = pd.concat([fds19_23['Did you receive any employment offers that you did not accept?'], fds19_23['How many additional offers did you receive?']], axis=0, ignore_index=True)\n",
    "fds19_23['Additional Offer #2 : Who is the employer?'] = pd.concat([fds19_23['Additional Offer #2 : Who is the employer?'], fds19_23['Additional Offer #2 - Who is the employer']], axis=0, ignore_index=True)\n",
    "fds19_23['Additional Offer #2: What is the location?'] = pd.concat([fds19_23['Additional Offer #2: What is the location?'], fds19_23['Additional Offer #2 - Where is the position located?']], axis=0, ignore_index=True)\n",
    "fds19_23['Additional Offer #2: Base Salary offered'] = pd.concat([fds19_23['Additional Offer #2: Base Salary offered'], fds19_23['Additional Offer #2 - What is the base salary that was offered?']], axis=0, ignore_index=True)\n",
    "fds19_23['While studying for your degree, did you do any of the following? (Please select ALL that apply)'] = pd.concat([fds19_23['While studying for your degree, did you do any of the following? (Please select ALL that apply)'], fds19_23['While studying for your degree, did you do any of the following (Please select ALL that apply)']], axis=0, ignore_index=True)\n",
    "\n",
    "fds19_23.drop(['Additional Offer #1 - Who is the employer', 'Additional Offer #2 - Who is the employer', 'How many additional offers did you receive?', 'Additional Offer #1 - Where is the position located?', 'Additional Offer #2 - Where is the position located?',\\\n",
    "              'Additional Offer #1 - What is the base salary that was offered?', 'Additional Offer #2 - What is the base salary that was offered?', 'Please indicate how closely your post-graduation outcome aligns with your intended career goal at graduation.', \\\n",
    "              \"While studying for your degree, did you do any of the following (Please select ALL that apply)\"], axis=1, inplace=True)"
   ]
  },
  {
   "cell_type": "code",
   "execution_count": 4,
   "id": "6b067fda-7841-4dcf-9400-401e611ccdcc",
   "metadata": {
    "tags": []
   },
   "outputs": [
    {
     "data": {
      "text/plain": [
       "Index(['Name', 'Date', 'Email Address', 'Will you be employed in:',\n",
       "       'Which of the following best describes your primary position?',\n",
       "       'My undergraduate experience at UW-Madison prepared me for the next step in my career path',\n",
       "       'While studying for your degree, did you do any of the following? (Please select ALL that apply)',\n",
       "       'What services provided by your School's/College's career center did you use?',\n",
       "       'Did you receive any employment offers that you did not accept?',\n",
       "       'Additional Offer #1: Who is the employer?',\n",
       "       'Additional Offer #1: What is the location?',\n",
       "       'Additional Offer #1: Base Salary offered',\n",
       "       'Additional Offer #2 : Who is the employer?',\n",
       "       'Additional Offer #2: What is the location?',\n",
       "       'Additional Offer #2: Base Salary offered',\n",
       "       'If you selected that you \"settled\" for a position or placement, what contributed to that decision?',\n",
       "       'Additional Offer #1 - What is the title of the position?',\n",
       "       'Additional Offer #2 - What is the title of the position?',\n",
       "       'Additional Offer #3 - Who is the employer',\n",
       "       'Additional Offer #3 - What is the title of the position?',\n",
       "       'Additional Offer #3 - Where is the position located?',\n",
       "       'Additional Offer #3 - What is the base salary that was offered?',\n",
       "       'Please select the Industry with which your role most closely aligns.',\n",
       "       'Please select the Career Pathway with which your role most closely aligns.',\n",
       "       ' Is your first destination a teaching position?',\n",
       "       'What is the school district?', 'What is the school?',\n",
       "       'What is your title or subject you are teaching?',\n",
       "       'What grade level(s) are you teaching?',\n",
       "       'You indicated that you are still seeking employment. Are any of the following reasons as to why? Select all that apply:',\n",
       "       'Please tell us more about your current job search. Select all that apply:',\n",
       "       'How many internships did you complete?',\n",
       "       'What is the best email address to reach you at post-graduation?',\n",
       "       'Please indicate how closely your post-graduation outcome aligns with your intended career goal at graduation',\n",
       "       'If you selected that you landed in a position or placement that was not aligned with your career goals, what factors influenced that decision?',\n",
       "       'Did you participate in any research projects or programs during your undergraduate education, not including research conducted for a class or where you were a research subject? (Examples include: Undergraduate Research Scholars, working in a faculty lab, Wisconsin Idea Undergraduate Fellowships, etc.)',\n",
       "       'Beyond your immediate post-graduation plans, do you plan to pursue an additional educational program or degree in the future?',\n",
       "       'If you do plan to pursue an additional program or degree, what type of program or degree do you plan to pursue?',\n",
       "       'Please describe your current plans for the upcoming school year:',\n",
       "       'If you are applying to or starting a new grad RN position, how did you hear about the opportunity?'],\n",
       "      dtype='object')"
      ]
     },
     "execution_count": 4,
     "metadata": {},
     "output_type": "execute_result"
    }
   ],
   "source": [
    "fds19_23.columns"
   ]
  },
  {
   "cell_type": "code",
   "execution_count": 5,
   "id": "248537c0-78fc-4114-a7aa-9147fb5b79fd",
   "metadata": {
    "tags": []
   },
   "outputs": [],
   "source": [
    "fds19_23.to_excel(\"clean_fds19_23.xlsx\", \"clean_fds19_23.xlsx\")"
   ]
  },
  {
   "cell_type": "code",
   "execution_count": null,
   "id": "7fb827ac-1325-47ef-bdd9-f9b74f17cf0c",
   "metadata": {},
   "outputs": [],
   "source": []
  }
 ],
 "metadata": {
  "kernelspec": {
   "display_name": "Python 3 (ipykernel)",
   "language": "python",
   "name": "python3"
  },
  "language_info": {
   "codemirror_mode": {
    "name": "ipython",
    "version": 3
   },
   "file_extension": ".py",
   "mimetype": "text/x-python",
   "name": "python",
   "nbconvert_exporter": "python",
   "pygments_lexer": "ipython3",
   "version": "3.11.5"
  }
 },
 "nbformat": 4,
 "nbformat_minor": 5
}
