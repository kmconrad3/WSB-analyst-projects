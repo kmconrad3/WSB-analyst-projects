{
 "cells": [
  {
   "cell_type": "code",
   "execution_count": 1,
   "id": "695ed072-7721-4ce5-8c47-cadcdf941780",
   "metadata": {
    "tags": []
   },
   "outputs": [],
   "source": [
    "#!pip install QualtricsAPI\n",
    "from QualtricsAPI.Setup import Credentials\n",
    "from QualtricsAPI.Survey import Responses\n",
    "import pandas as pd\n",
    "import numpy as np"
   ]
  },
  {
   "cell_type": "code",
   "execution_count": 2,
   "id": "93a403b2-b4b8-4591-969d-4742d19a6b70",
   "metadata": {
    "tags": []
   },
   "outputs": [],
   "source": [
    "Credentials().qualtrics_api_credentials(token='AR7WLgm3j2koGWHEmF7dpb9VByMY91P0AUhaSukQ',data_center='ca1',directory_id='POOL_2YrDmsCtkrAw2Aj')\n",
    "df = Responses().get_survey_responses(survey=\"SV_3a4CkoBg7BQhXRr\", useLabels = True)"
   ]
  },
  {
   "cell_type": "code",
   "execution_count": 3,
   "id": "2a871cb0-adee-411a-96a5-c01823738e06",
   "metadata": {
    "tags": []
   },
   "outputs": [],
   "source": [
    "df.columns = df.iloc[0]\n",
    "df.drop(df.index[[0,1]], inplace=True)\n",
    "df.drop(['Start Date', 'End Date', 'Distribution Channel', 'User Language', 'Response Type', 'IP Address', 'Progress', 'External Data Reference', 'Location Latitude', 'Location Longitude', \\\n",
    "         'Duration (in seconds)', 'Finished', 'Response ID', 'Recipient Last Name', 'Recipient First Name', 'Recipient Email', \\\n",
    "         'By clicking the button below, I certify that this petition is being completed by the student making the request.', \\\n",
    "         'Please fill in the following information: - First name (Preferred)', 'Please fill in the following information: - Last name', 'Please fill in the following information: - Wisc email address', \\\n",
    "         'The Wisconsin School of Business has a concurrent enrollment policy for the fall and spring terms that is detailed here. Exceptions to this policy are rare and will be reviewed on an individual basis based on extenuating circumstances.', \\\n",
    "         'You can upload supporting documentation here as needed - Id', 'You can upload supporting documentation here as needed - Name', 'You can upload supporting documentation here as needed - Size', \\\n",
    "         'Courses may not be dropped after the 9th week except in extremely unusual circumstances, and only with the approval of the BBA Director of Academic Advising and Affairs or Assistant Dean of WSB Undergraduate Program. Please note that the summer term drop deadlines are usually within the first week or two of a particular summer session. See the Summer Key Deadlines for more specific details.\\n\\n\\n\\nEarning a poor grade in a course, not being aware of deadlines, or not receiving feedback on an examination until after the deadline are a few examples that are not considered strong reasons for obtaining permission to drop a course after the deadline.', \\\n",
    "         'You can upload supporting documentation here as needed - Type'], axis=1, inplace=True)\n",
    "\n",
    "df.columns = df.columns.str.replace('Please fill in the following information for the course you would like to take through UW Independent Learning or through another institution. (example: Spanish, First Semester Spanish, U912-101, 4 credits)', 'Fill in the information for the course you would like to take through UW Independent Learning or another institution.')\n",
    "df.columns = df.columns.str.replace('Most exceptions require consultation with an advisor prior to submitting a petition. ','')\n",
    "df.columns = df.columns.str.replace('International students on F-1/J-1 visas and student athletes must maintain full-time status (a minimum of 12 credits) during the fall and spring semesters. ', '')\n",
    "df.columns = df.columns.str.replace('You can learn more about the Disruption Grading Option at https://registrar.wisc.edu/disruptiongrades/.  \\n \\n\\n', '')\n",
    "df.columns = df.columns.str.replace('The modality for School of Business online degree program courses are online only.  Exceptions are rare and will be considered on an individual basis.\\n \\n\\n', '')"
   ]
  },
  {
   "cell_type": "code",
   "execution_count": 4,
   "id": "591b5490-e5ac-4cb6-b816-f122bf2fdd4b",
   "metadata": {
    "tags": []
   },
   "outputs": [],
   "source": [
    "#Create a row per students major\n",
    "df.drop('Declared Major(s) and Certificate(s) - Selected Choice - Other/non-business majors and certificates:', axis=1, inplace=True)\n",
    "id_vars = ['Please fill in the following information: - Student ID number']\n",
    "value_vars = [col for col in df.columns if col.startswith('Declared Major(s) and Certificate(s) - Selected Choice -')]\n",
    "df_melted = pd.melt(df, id_vars=id_vars, value_vars=value_vars, var_name='MajorColumn', value_name='Major')\n",
    "df_melted = df_melted.dropna(subset=['Major'])\n",
    "result_df = df_melted.merge(df, on=id_vars, how='left')\n",
    "result_df = result_df.drop(columns=value_vars)\n",
    "result_df.drop(\"MajorColumn\", axis=1, inplace=True)\n",
    "\n",
    "result_df[\"Term Date\"] = result_df[\"Recorded Date\"].apply(lambda x: \"Spring  {}\".format(x.split(\"-\")[0][:4]) if int(x.split(\"-\")[1])<6 \\\n",
    "                                       else (\"Summer {}\".format(x.split(\"-\")[0][:4]) if (int(x.split(\"-\")[0])>=6 and int(x.split(\"-\")[1])<9) \\\n",
    "                                           else \"Fall {}\".format(x.split(\"-\")[0][:4]) ) )\n",
    "\n",
    "result_df[\"For which academic policy or requirement are you requesting an exception?\"] = np.where(result_df[\"For which academic policy or requirement are you requesting an exception?\"].isnull(), result_df[\"For which academic rule, regulation or requirement are you requesting an alternative or exception?\"], result_df[\"For which academic policy or requirement are you requesting an exception?\"])\n",
    "result_df.drop(\"For which academic rule, regulation or requirement are you requesting an alternative or exception?\", axis=1, inplace=True)\n",
    "result_df = result_df.drop_duplicates()\n",
    "\n",
    "#TESTING\n",
    "#result_df[\"For which academic policy or requirement are you requesting an exception?\"].unique()\n",
    "#result_df[\"For which academic policy or requirement are you requesting an exception?\"].value_counts()\n",
    "\n",
    "#result_df[result_df['Please fill in the following information: - Student ID number']=='9082038788']\n",
    "#result_df.loc[(result_df[\"cata\"] == \"Other\") & (result_df[\"For which academic policy or requirement are you requesting an exception?\"] == \"Remove DR notation, post Wednesday deadline for Marketing 300\")]"
   ]
  },
  {
   "cell_type": "code",
   "execution_count": 5,
   "id": "7b1a2105-4d28-4db6-916a-6926e2560f23",
   "metadata": {},
   "outputs": [
    {
     "data": {
      "text/plain": [
       "Catagory\n",
       "Substitution       1357\n",
       "Other               553\n",
       "Add/drop            503\n",
       "Waive               494\n",
       "Overload            439\n",
       "Concurrent          252\n",
       "Late withdrawl       55\n",
       "Remove DR            40\n",
       "Study abroad         32\n",
       "SD/UD request        31\n",
       "Modality change      17\n",
       "Name: count, dtype: int64"
      ]
     },
     "execution_count": 5,
     "metadata": {},
     "output_type": "execute_result"
    }
   ],
   "source": [
    "# Auto group free response answers\n",
    "def fill_cat(row):\n",
    "    if not pd.isna(row.iloc[9]): #ADD/DROP\n",
    "        return 'Add/drop'\n",
    "    elif pd.notnull(row.iloc[[10, 11, 12, 13, 14, 16, 17, 18, 19]]).any(): #CONCURR\n",
    "        return 'Concurrent'\n",
    "    elif pd.notnull(row.iloc[[20, 21, 23]]).any(): #OVERLOAD\n",
    "        return 'Overload'\n",
    "    elif pd.notnull(row.iloc[[30, 31]]).any(): #SUBSTITU\n",
    "        return 'Substitution'\n",
    "    elif not pd.isna(row.iloc[29]): #WAIVE\n",
    "        return 'Waive'\n",
    "    elif pd.notnull(row.iloc[[25, 26, 27]]).any(): #WITHDRAWL\n",
    "        return 'Late withdrawl'\n",
    "    elif pd.notnull(row.iloc[[32, 33]]).any(): #COVID\n",
    "        return 'SD/UD request'\n",
    "    elif pd.notnull(row.iloc[[34, 35]]).any(): #MODALITY\n",
    "        return 'Modality change'\n",
    "    else:\n",
    "        return 'Other'\n",
    "\n",
    "result_df[\"Catagory\"] = result_df.apply(fill_cat, axis=1)\n",
    "\n",
    "\n",
    "\n",
    "result_df[\"For which academic policy or requirement are you requesting an exception?\"] = result_df[\"For which academic policy or requirement are you requesting an exception?\"].astype(str)\n",
    "def text_cat(response):\n",
    "    cates = {\n",
    "        'Add/drop': [\"Add or drop a class after the deadline\", \"drop a c\"],\n",
    "        'Overload': [\"Enroll for a credit overload\", \"75 \", \"75.\"],\n",
    "        'Concurrent': [\"Concurrent enrollment during a fall or spring term\", \"concurrently\", \"concurrent\", \"Winter\"],\n",
    "        'SD/UD request': [\"SD/UD\"],\n",
    "        'Modality change' : [\"Online courses enrollment\", \"modality\"],\n",
    "        'Late withdrawl': [\"withdraw\"],\n",
    "        'Remove DR': [\"Remove DR notation\", \"DR \"],\n",
    "        'Waive': [\"Waive a requirement\", \"waive\", \"lift\", \"requisite class with its pre-requisite class\"],\n",
    "        'Study abroad': [\"region\", \"Study abroad\", \"Studying abroad\", \"abroad\"],\n",
    "        'Substitution': [\"Meet a requirement with a substitution\", \"substitute\", \"count\"]}\n",
    "    for key, value in cates.items():\n",
    "        if key == 'Remove DR':\n",
    "            if ('transcript' in response.lower() and 'dr' in response.lower()) or ('drop' in response.lower() and 'waive' in response.lower()):\n",
    "                return key\n",
    "        if key == 'Modality change':\n",
    "            if 'online' in response.lower() and ('course' in response.lower() or 'degree' in response.lower()):\n",
    "                return key\n",
    "        if key == 'Concurrent':\n",
    "            if 'another' in response.lower() and ('institution' in response.lower() or 'college' in response.lower() or 'university' in response.lower()):\n",
    "                return key\n",
    "        if key == 'Substitution':\n",
    "            if 'fulfill' in response.lower() and ('requirement' in response.lower() or 'elective' in response.lower()):\n",
    "                return key\n",
    "        if isinstance(value, list):\n",
    "            for element in value:\n",
    "                if element.lower() in response.lower():\n",
    "                    return key\n",
    "    return 'Other'\n",
    "\n",
    "result_df.loc[result_df[\"Catagory\"] == \"Other\", \"Catagory\"] = result_df.loc[result_df[\"Catagory\"] == \"Other\", \"For which academic policy or requirement are you requesting an exception?\"].apply(text_cat)\n",
    "\n",
    "result_df[\"Catagory\"].value_counts()"
   ]
  },
  {
   "cell_type": "code",
   "execution_count": 6,
   "id": "1e486dc8-f886-4d48-a7bf-7e2ecf329ac8",
   "metadata": {
    "tags": []
   },
   "outputs": [],
   "source": [
    "result_df.to_excel(\"policy_appeal_data_clean.xlsx\")"
   ]
  },
  {
   "cell_type": "code",
   "execution_count": 7,
   "id": "0fd474d0-d9bc-4360-91bc-dffb2af5b1a5",
   "metadata": {
    "tags": []
   },
   "outputs": [],
   "source": [
    "# ANOTHER IDEA\n",
    "#from difflib import get_close_matches\n",
    "\n",
    "#result_df[\"For which academic policy or requirement are you requesting an exception?\"] = result_df[\"For which academic policy or requirement are you requesting an exception?\"].astype(str)\n",
    "# add_drop = [\"Add or drop a class after the deadline\", \"deadline past\", \"after deadline\", \"add\", \"drop\"]\n",
    "# concurrent = [\"Concurrent enrollment during a fall or spring term\", \"concurrent\", \"same time\", \"together\"]\n",
    "# overload = [\"overload\", \"75\", \"limit\", \"maximum\"]\n",
    "# req_subs = [\"Meet a requirement with a substitution\",\"substitution\", \"replace\", \"instead of\", \"fulfill\", \"exception\"]\n",
    "# req_waiv = [\"waive\", \"requirement\", \"requisite\"]\n",
    "# withdrawl = [\"Withdraw from all classes after the deadline\", \"leave\", \"drop\", \"withdrawl\"]\n",
    "# sdud_cov = [\"Request SD/UD grading option post-deadline (Spring 2020 and Spring 2021 terms only)\", \"Spring 2020\", \"Spring 2021\", \"covid\", \"UD\", \"SD\"]\n",
    "# modality = [\"modality\", \"online\"]\n",
    "# trans_dr = [\"remove\", \"drop\", \"DR\", \"transcript\"]\n",
    "# stu_ab = [\"region\", \"Study abroad\", \"Studying abroad\"]\n",
    "# other = [\"nan\"] #anything else goes here\n",
    "                                                                                             \n",
    "# def find_best_match(response):\n",
    "#     categories = {\"add_drop\": add_drop, \"concurrent\": concurrent, \"overload\": overload, \\\n",
    "#         \"req_subs\": req_subs, \"req_waiv\": req_waiv, \"withdrawl\": withdrawl, \\\n",
    "#         \"sdud_cov\": sdud_cov, \"modality\": modality, \"trans_dr\": trans_dr, \\\n",
    "#         \"other\": other}\n",
    "#     best_match = max(categories.keys(), \\\n",
    "#         key=lambda category: len(get_close_matches(response, categories[category], n=1, cutoff=0.6)) > 0)\n",
    "#     return best_match\n",
    "\n",
    "# result_df[\"For which academic policy or requirement are you requesting an exception?\"] = result_df[\"For which academic policy or requirement are you requesting an exception?\"].apply(find_best_match)"
   ]
  }
 ],
 "metadata": {
  "kernelspec": {
   "display_name": "Python 3 (ipykernel)",
   "language": "python",
   "name": "python3"
  },
  "language_info": {
   "codemirror_mode": {
    "name": "ipython",
    "version": 3
   },
   "file_extension": ".py",
   "mimetype": "text/x-python",
   "name": "python",
   "nbconvert_exporter": "python",
   "pygments_lexer": "ipython3",
   "version": "3.11.5"
  }
 },
 "nbformat": 4,
 "nbformat_minor": 5
}
